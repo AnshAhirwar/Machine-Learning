{
  "cells": [
    {
      "cell_type": "markdown",
      "metadata": {
        "id": "view-in-github",
        "colab_type": "text"
      },
      "source": [
        "<a href=\"https://colab.research.google.com/github/AnshAhirwar/Machine-Learning/blob/main/Prac%202.ipynb\" target=\"_parent\"><img src=\"https://colab.research.google.com/assets/colab-badge.svg\" alt=\"Open In Colab\"/></a>"
      ]
    },
    {
      "cell_type": "code",
      "source": [
        "# Importing the necessary library\n",
        "import pandas as pd\n",
        "\n",
        "# Define the file paths\n",
        "input_file = \"sales_data.csv\"  # Replace with your input CSV file path\n",
        "output_file = \"updated_sales_data.csv\"  # File where updated data will be saved\n",
        "\n",
        "# Step 1: Import the data\n",
        "try:\n",
        "    # Read the CSV file into a Pandas DataFrame\n",
        "    sales_data = pd.read_csv(input_file)\n",
        "    print(\"Data imported successfully!\")\n",
        "except FileNotFoundError:\n",
        "    print(f\"Error: The file '{input_file}' was not found.\")\n",
        "    exit()\n",
        "except Exception as e:\n",
        "    print(f\"An error occurred while importing data: {e}\")\n",
        "    exit()\n",
        "\n",
        "# Step 2: Perform basic data cleaning and modifications\n",
        "print(\"\\nInitial Data:\")\n",
        "print(sales_data.head())\n",
        "\n",
        "# Fill missing values with a placeholder (e.g., 0 for numerical columns)\n",
        "sales_data.fillna(0, inplace=True)\n",
        "\n",
        "# Add a new column for sales tax (assuming 10% of 'sales_amount')\n",
        "if 'sales_amount' in sales_data.columns:\n",
        "    sales_data['sales_tax'] = sales_data['sales_amount'] * 0.10\n",
        "else:\n",
        "    print(\"Error: 'sales_amount' column not found in the data.\")\n",
        "    exit()\n",
        "\n",
        "# Step 3: Export the updated DataFrame to a new CSV file\n",
        "try:\n",
        "    sales_data.to_csv(output_file, index=False)\n",
        "    print(f\"\\nUpdated data successfully exported to '{output_file}'!\")\n",
        "except Exception as e:\n",
        "    print(f\"An error occurred while exporting data: {e}\")\n",
        "    exit()\n",
        "\n",
        "# Display updated data\n",
        "print(\"\\nUpdated Data:\")\n",
        "print(sales_data.head())\n"
      ],
      "metadata": {
        "colab": {
          "base_uri": "https://localhost:8080/"
        },
        "id": "QF-eF6MU1hRM",
        "outputId": "1d8669db-6149-4f97-e0a8-285f089d011f"
      },
      "execution_count": null,
      "outputs": [
        {
          "output_type": "stream",
          "name": "stdout",
          "text": [
            "Data imported successfully!\n",
            "\n",
            "Initial Data:\n",
            "    order_id  order_date    status   item_id                  sku  \\\n",
            "0  100354678  2020-10-01  received  574772.0   oasis_Oasis-064-36   \n",
            "1  100354678  2020-10-01  received  574774.0      Fantastic_FT-48   \n",
            "2  100354680  2020-10-01  complete  574777.0      mdeal_DMC-610-8   \n",
            "3  100354680  2020-10-01  complete  574779.0   oasis_Oasis-061-36   \n",
            "4  100367357  2020-11-13  received  595185.0  MEFNAR59C38B6CA08CD   \n",
            "\n",
            "   qty_ordered  price   value  discount_amount   total  ...          SSN  \\\n",
            "0         21.0   89.9  1798.0              0.0  1798.0  ...  627-31-5251   \n",
            "1         11.0   19.0   190.0              0.0   190.0  ...  627-31-5251   \n",
            "2          9.0  149.9  1199.2              0.0  1199.2  ...  627-31-5251   \n",
            "3          9.0   79.9   639.2              0.0   639.2  ...  627-31-5251   \n",
            "4          2.0   99.9    99.9              0.0    99.9  ...  627-31-5251   \n",
            "\n",
            "     Phone No.  Place Name  County    City State      Zip Region User Name  \\\n",
            "0  405-959-1129     Vinson  Harmon  Vinson    OK  73571.0  South   jwtitus   \n",
            "1  405-959-1129     Vinson  Harmon  Vinson    OK  73571.0  South   jwtitus   \n",
            "2  405-959-1129     Vinson  Harmon  Vinson    OK  73571.0  South   jwtitus   \n",
            "3  405-959-1129     Vinson  Harmon  Vinson    OK  73571.0  South   jwtitus   \n",
            "4  405-959-1129     Vinson  Harmon  Vinson    OK  73571.0  South   jwtitus   \n",
            "\n",
            "  Discount_Percent  \n",
            "0              0.0  \n",
            "1              0.0  \n",
            "2              0.0  \n",
            "3              0.0  \n",
            "4              0.0  \n",
            "\n",
            "[5 rows x 36 columns]\n",
            "Error: 'sales_amount' column not found in the data.\n",
            "\n",
            "Updated data successfully exported to 'updated_sales_data.csv'!\n",
            "\n",
            "Updated Data:\n",
            "    order_id  order_date    status   item_id                  sku  \\\n",
            "0  100354678  2020-10-01  received  574772.0   oasis_Oasis-064-36   \n",
            "1  100354678  2020-10-01  received  574774.0      Fantastic_FT-48   \n",
            "2  100354680  2020-10-01  complete  574777.0      mdeal_DMC-610-8   \n",
            "3  100354680  2020-10-01  complete  574779.0   oasis_Oasis-061-36   \n",
            "4  100367357  2020-11-13  received  595185.0  MEFNAR59C38B6CA08CD   \n",
            "\n",
            "   qty_ordered  price   value  discount_amount   total  ...          SSN  \\\n",
            "0         21.0   89.9  1798.0              0.0  1798.0  ...  627-31-5251   \n",
            "1         11.0   19.0   190.0              0.0   190.0  ...  627-31-5251   \n",
            "2          9.0  149.9  1199.2              0.0  1199.2  ...  627-31-5251   \n",
            "3          9.0   79.9   639.2              0.0   639.2  ...  627-31-5251   \n",
            "4          2.0   99.9    99.9              0.0    99.9  ...  627-31-5251   \n",
            "\n",
            "     Phone No.  Place Name  County    City State      Zip Region User Name  \\\n",
            "0  405-959-1129     Vinson  Harmon  Vinson    OK  73571.0  South   jwtitus   \n",
            "1  405-959-1129     Vinson  Harmon  Vinson    OK  73571.0  South   jwtitus   \n",
            "2  405-959-1129     Vinson  Harmon  Vinson    OK  73571.0  South   jwtitus   \n",
            "3  405-959-1129     Vinson  Harmon  Vinson    OK  73571.0  South   jwtitus   \n",
            "4  405-959-1129     Vinson  Harmon  Vinson    OK  73571.0  South   jwtitus   \n",
            "\n",
            "  Discount_Percent  \n",
            "0              0.0  \n",
            "1              0.0  \n",
            "2              0.0  \n",
            "3              0.0  \n",
            "4              0.0  \n",
            "\n",
            "[5 rows x 36 columns]\n"
          ]
        }
      ]
    }
  ],
  "metadata": {
    "colab": {
      "name": "Welcome To Colab",
      "provenance": [],
      "include_colab_link": true
    },
    "kernelspec": {
      "display_name": "Python 3",
      "name": "python3"
    }
  },
  "nbformat": 4,
  "nbformat_minor": 0
}